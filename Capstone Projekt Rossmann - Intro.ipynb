{
 "cells": [
  {
   "cell_type": "markdown",
   "id": "cb88ebc5-1484-4ed8-9c63-69bc8a6a2848",
   "metadata": {},
   "source": [
    "# Capstone Projekt Rossmann"
   ]
  },
  {
   "cell_type": "markdown",
   "id": "b5edf7bd",
   "metadata": {},
   "source": [
    "# Ablaufplanung\n",
    "\n",
    "  \n",
    "\n",
    "1. Projektdefinition\n",
    "    1. Allgemeine Aufgabenstellung des Auftraggebers\n",
    "    2. Definition von Use Cases (Hintergrund/ Geschäftszweck)\n",
    "    3. Aufstellen von Hypothesen\n",
    "    4. Weitere interessante Fragestellungen\n",
    "2. Datenanalyse\n",
    "    1. Beschreibung und Erläuterung der beschafften Daten\n",
    "        1. Warum sind genau diese Daten für die Bearbeitung der Aufgabenstellung geeignet?\n",
    "        2. Sind Daten in ausreichender Menge und Qualität verfügbar?\n",
    "    2. EDA 1\n",
    "        1. Allgemeine spielerische EDA auf Tagesbasis\n",
    "        2. Vorbereiten der EDA\n",
    "            1. Wie kann und muss ich die Daten aufbereiten/ aggregieren, um die verschiedenen Fragestellungen untersuchen zu können?\n",
    "            2. **Da vorgegeben, Daten auf Wochenebene aggregieren** (Im Abschnitt der explorativen Datenanalyse (EDA) müssen zunächst die Daten zu den täglichen Verkäufen, Kundenanzahlen, Öffnungstagen, Promotionen/ Werbeaktionen und Feiertagen von 1115 Geschäften auf Basis der Gesamtsumme der 942 Tage aggregiert werden. )\n",
    "            3. Hinzufügen zusätzlicher Features, die den Informationsverlust der Aggregation verringern. (Neue Metriken wie der durchschnittliche tägliche Verkaufserlös, die durchschnittliche tägliche Kundenanzahl und die Verkäufe pro Kunde müssen erstellt werden, um die Performance einer Filiale fair zu analysieren, da einige Filialen aufgrund von Renovierungen für einen bestimmten Zeitraum geschlossen waren und die Gesamtzahl der Öffnungstage zwischen den Filialen variiert.)\n",
    "            4. Welche Tools können helfen, gerade bei Zeitreihenanalyse?\n",
    "        3. Durchführen der EDA\n",
    "            1. Festhalten der Ergebnisse bezogen auf die Fragestellungen\n",
    "            2. Speichern weiterer zufälligen interessanten Entdeckungen\n",
    "    3. Aufbereitung der Daten\n",
    "        1. Missing Values\n",
    "            1. Untersuchen auf fehlende Daten und deren Gründe.\n",
    "            2. Welche Methode ist je Feature die beste, um diese aufzufüllen oder ganz zu eliminieren?\n",
    "        2. Ausreißer\n",
    "            1. Ausreißer untersuchen. Wo treten potentielle Ausreißer auf?\n",
    "            2. Können diese Erklärt werden? Sind dies Ausreißer oder valide Datenpunkte?\n",
    "            3. Ausreißer entfernen oder beibehalten **(Gibt es andere Methoden, wie zb ersetzen mit der 2xStAbw)**\n",
    "        3. Feature Engineering\n",
    "            1. Hinzufügen von Features durch Überlegungen und Domänenwissen\n",
    "            2. Erzeugen zusätzlicher Features z.b. durch PolynomialFeatures\n",
    "            3. **TODO**: In ML loop prüfen ob mit oder ohne zusätzlichen Features\n",
    "        4. Feature Scaling\n",
    "            1. Untersuchen der Verteilung/ Lage der Daten\n",
    "                1. Prüfen/ Hypothesentest auf Normalverteilung\n",
    "                2. Berechnen der Schiefe\n",
    "                3. Welche Methoden können zur Umwandlung auf Normalverteilung angewandt werden? (Logarithmus, Quadratwurzel, Box-Cox oder Yeo-Johnson)\n",
    "                4. **TODO**: In ML loop prüfen ob mit oder ohne Umwandlung\n",
    "            2. Skalieren der Features\n",
    "                1. Welche Skalierungsmethoden?\n",
    "                2. **TODO**: In ML loop prüfen welche Skalierungsmethode\n",
    "            3. Umwandeln der kategorialen Features\n",
    "                1. Umwandeln bzw. anwenden eines entsprechenden Encoders\n",
    "    4. EDA 2\n",
    "        1. Erneute EDA mit den hinzugefügten Features (aus Domänenwissen)\n",
    "3. Modellentwicklung zur Umsatzprognose\n",
    "    1. Auswahl von Modellen die getestet werden sollen\n",
    "    2. Definition von Bewertungskennzahlen\n",
    "    3. Erstellung des Codes und Pipelines\n",
    "    4. PreTest für Datenaufarbeitung\n",
    "        1. Testen aller Features, um die beste (oder überhaupt) Transformation der Schiefe zu ermitteln\n",
    "        2. Anwenden der Schiefe Transformation\n",
    "        3. Testen **mit \"Root Features\"**, um den besten Scaler zu ermitteln\n",
    "        4. Anwenden des Ausgewählten Scalers auf alle Features\n",
    "        5. Testen von Feature selection/ reduction\n",
    "    5. Testdurchführung\n",
    "        1. Erstellen einer Tabelle mit den Kennzahlen der Performance der verschiedenen Modelle\n",
    "        2. Auswahl der vielversprechendsten\n",
    "    6. Hyperparametertuning der ausgewählten Modelle\n",
    "        1. Welche Optimierungsmethoden sollen angewandt werden?\n",
    "        2. Durchführen der Optimierungen\n",
    "        3. Erstellen einer Tabelle mit den Kennzahlen der Performance der verschiedenen Modelle\n",
    "        4. Prüfen ob die Modelle besser als die Mittelwertmethode - Prognose mit dem Durchschnittswert der historischen Daten abschneiden\n",
    "        5. Auswahl und Begründung des finalen Modells\n",
    "        6. Erstellung von Code, um per ID-Eingabe die Umsatzzahlen der nächsten 8 Wochen voraus zu sagen.\n",
    "4. Berichte\n",
    "    1. Individueller Filialbericht zur Filialleistung\n",
    "        1. Definition der Informationen und KPIs die im Bericht sollen\n",
    "        2. Wie können diese extrahiert oder berechnet werden?\n",
    "        3. Code erstellen um automatisiert einen Filialbericht zu generieren (via Filialnummer)\n",
    "    2. Gesamtbericht des Filialnetzes\n",
    "        1. Definition der Informationen und KPIs die im Bericht sollen\n",
    "        2. Wie können diese extrahiert oder berechnet werden?\n",
    "        3. Erstellen des Berichts\n",
    "5. Management Summary (Da die Notebooks riesig werden und bestimmt auch viele Tests enthalten)\n",
    "    1. Was sind die Wichtigsten Erkenntnisse bzg. auf den UseCase\n",
    "    2. Welche zusätzliche Erkenntnisse sind für den Auftraggeber interessant?\n",
    "    3. Präsentation oder Präsentations-Notebook erstellen\n",
    "6. Präsentation in KW 12 (18-22 März 2024)"
   ]
  },
  {
   "cell_type": "code",
   "execution_count": null,
   "id": "0a797075-57a7-48b6-bd30-0f52b8fb70d6",
   "metadata": {},
   "outputs": [],
   "source": []
  },
  {
   "cell_type": "markdown",
   "id": "4b0f8846",
   "metadata": {},
   "source": [
    "# 1. Project definition"
   ]
  },
  {
   "cell_type": "markdown",
   "id": "bb1bb09b",
   "metadata": {},
   "source": [
    "## 1.1 Background"
   ]
  },
  {
   "cell_type": "markdown",
   "id": "fcf486f2",
   "metadata": {},
   "source": [
    "TBD"
   ]
  },
  {
   "cell_type": "markdown",
   "id": "1d02ec67-f125-4e8f-a41e-e2e97490e20c",
   "metadata": {},
   "source": [
    "## 1.2 General task of the client"
   ]
  },
  {
   "cell_type": "markdown",
   "id": "227923db-b647-4fa8-8e87-15bdcdb1e0be",
   "metadata": {},
   "source": [
    "- Determine the key factors that influence sales and revenue\n",
    "- Create strategies for the management to improve the business\n",
    "\n",
    "- Build a standardized forecasting model which can predict the sales figures for the next eight weeks for each store.\n",
    "\n",
    "- Generate a report with information on the overall performance of the 1115 stores as well as individual performance reports for each store."
   ]
  },
  {
   "cell_type": "markdown",
   "id": "bda7d012",
   "metadata": {},
   "source": [
    "## 1.3 Definition of use cases (background/business purpose)"
   ]
  },
  {
   "cell_type": "markdown",
   "id": "1cb4271e",
   "metadata": {},
   "source": [
    "- The analyses should help to better understand the current sales figures and the impact of e.g. promotions, product range, distance to competitors, etc. on sales.\n",
    "- The resulting strategy and optimization proposals for increasing sales will then be discussed and implemented at management level.\n",
    "- The standardized forecast model of sales figures per store for the next eight weeks should also be more accurate than the current individual forecasts of the individual store managers themselves, as well as saving corresponding time, monetary and capacity resources.\n",
    "- The overall report as well as the individual store reports should also contribute to the mentioned objectives and also provide a quick and automated overview of the current performance."
   ]
  },
  {
   "cell_type": "markdown",
   "id": "f8bc64c1",
   "metadata": {},
   "source": [
    "## 1.4 Formulating hypotheses\n",
    "\n",
    "ACHTUNG: JE NACH FRAGE MÜSSEN DIE HYPOTHESEN AUF UNTERSCHIEDLICHE DATEN ANGEWANDT WERDEN z.B: UMSATZ JE GEÖFFNETEN TAG "
   ]
  },
  {
   "cell_type": "markdown",
   "id": "23449ed5",
   "metadata": {},
   "source": [
    "1. Promotions  \n",
    "\txx1.1 In Wochen mit Werbeaktionen ist der Umsatz, Kundenanzahl und Umsatz je Kunde höher.\n",
    "2. Promotion2  \n",
    "\txx2.1 In Monaten mit Promo2 ist der Umsatz, Kundenanzahl und Umsatz je Kunde höher.  \n",
    "\txx2.2 Seit der Store bei Promo2 mitmacht, ist der Umsatz, Kundenanzahl und Umsatz je Kunde höher auch ausserhalb der Promo2 Aktionen.\n",
    "3. Schulferien  \n",
    "\txx3.1 In Wochen mit Schulferien ist der Umsatz niedriger.  \n",
    "\txx3.2 In Wochen mit Schulferien ist der Umsatz je Kunde niedriger.  \n",
    "4. Feiertage  \n",
    "\txx4.1 In Wochen mit Feiertagen ist der Umsatz niedriger.  \n",
    "\txx4.2 In Wochen mit Feiertagen wird an den anderen Tagen mehr gekauft.\n",
    "5. Wochentag  \n",
    "\txx5.1 Am Wochenende wird weniger gekauft, da die Leute unterwegs sind.\n",
    "6. Assortment  \n",
    "\txx6.1 Stores mit extra Sortiment haben höheren Umsatz als Basis Stores  \n",
    "\txx6.2 Stores mit erweitertem Sortiment haben höheren Umsatz als Basis und Extra Stores\n",
    "7. CompetitionDistance  \n",
    "\txx7.1 Je näher der Wettbewerber, desto niedriger der Umsatz.  \n",
    "\txx7.2 Seit dem Wettbewerber eröffnet hat, ist der Umsatz niedriger.\n",
    "\t\n",
    "\n",
    "\n"
   ]
  },
  {
   "cell_type": "markdown",
   "id": "4866f72f",
   "metadata": {},
   "source": [
    "## 1.5 Further interesting questions\n",
    "ACHTUNG: JE NACH FRAGE MÜSSEN DIE HYPOTHESEN AUF UNTERSCHIEDLICHE DATEN ANGEWANDT WERDEN z.B: UMSATZ JE GEÖFFNETEN TAG "
   ]
  },
  {
   "cell_type": "markdown",
   "id": "26cb1093",
   "metadata": {},
   "source": [
    "1. Promotions  \n",
    "\txx1.1 Lohnt sich eine Promotion in Wochen mit Feiertagen?  \n",
    "2. Promotion2  \n",
    "\t2.1 \n",
    "3. Schulferien  \n",
    "\t3.1 \n",
    "4. Feiertage  \n",
    "\t4.1 \n",
    "5. Wochentag  \n",
    "\txx5.1 Lohnt sich eine Promotion am Wochenende?  \n",
    "6. Assortment  \n",
    "\txx6.1 Wie ist das Verhältnis von Basis, Extra und erweitertem Sortiment?  \n",
    "\txx6.2 Wie ist das Verhältnis von Basis, Extra und erweitertem Sortiment in den einzelnen Storetypen?  \n",
    "\txx6.3 Wie ist der durchschnittliche Umsatz der einzelnen Assortments?  \n",
    "\txx6.4 Wie viel promotion weeks gibt es in den einzelnen Assortments?  \n",
    "\txx6.5 Schneiden Werbewochen in einzelnen Assortments besser ab als in anderen?\n",
    "7. CompetitionDistance\n",
    "8. Storetype  \n",
    "\txx8.1 Wie viele Stores gibt es von welchem Typ?  \n",
    "\txx8.2 Wie viel promotion weeks gibt es in den einzelnen Storetypen?  \n",
    "\txx8.3 Schneiden Werbewochen in einzelnen Storetypen besser ab als in anderen?\n",
    "\n"
   ]
  },
  {
   "cell_type": "markdown",
   "id": "6471acc0",
   "metadata": {},
   "source": [
    "# Datenanalyse"
   ]
  },
  {
   "cell_type": "markdown",
   "id": "94649588",
   "metadata": {},
   "source": [
    "## Data preparing for EDA/ Row data preparation"
   ]
  },
  {
   "cell_type": "code",
   "execution_count": null,
   "id": "5b58ba39-bc97-4999-84ba-a6a3fcff85d9",
   "metadata": {},
   "outputs": [],
   "source": [
    "import pandas as pd\n",
    "import numpy as np\n",
    "from datetime import datetime\n",
    "\n",
    "import seaborn as sns\n",
    "import matplotlib.pyplot as plt\n",
    "import plotly.express as px\n",
    "\n",
    "import plotly.graph_objects as go\n",
    "from plotly.subplots import make_subplots\n",
    "\n",
    "# matplotlib inline notebook\n",
    "\n",
    "\n",
    "\n",
    "\n",
    "\n",
    "pd.set_option('display.max_columns', None)"
   ]
  },
  {
   "cell_type": "markdown",
   "id": "7394ffc2",
   "metadata": {},
   "source": [
    "### Store Data"
   ]
  },
  {
   "cell_type": "code",
   "execution_count": null,
   "id": "55d80a78-9e5d-4e14-842a-b2fd784f9e01",
   "metadata": {},
   "outputs": [],
   "source": [
    "df_store = pd.read_csv(\"store.csv\", dtype={0:int, 1:object, 2:object, 3:float, 4:float, 5:float, 6:int, 7:float, 8:float, 9:object})\n"
   ]
  },
  {
   "cell_type": "code",
   "execution_count": null,
   "id": "aaa9de4d-91d5-4706-af27-67187e808300",
   "metadata": {},
   "outputs": [],
   "source": [
    "df_store.sample(10)"
   ]
  },
  {
   "cell_type": "code",
   "execution_count": null,
   "id": "8a846f33-a6a3-4876-b027-52ab1e00d8b7",
   "metadata": {},
   "outputs": [],
   "source": []
  },
  {
   "cell_type": "code",
   "execution_count": null,
   "id": "ea1d439f-402e-4bbe-83d4-44426970310c",
   "metadata": {},
   "outputs": [],
   "source": [
    "df_store.info()"
   ]
  },
  {
   "cell_type": "code",
   "execution_count": null,
   "id": "a7814829-baf0-4f44-995d-d44ee608f269",
   "metadata": {},
   "outputs": [],
   "source": []
  },
  {
   "cell_type": "code",
   "execution_count": null,
   "id": "41252ebb-8c48-4e94-8514-20c1eacc8130",
   "metadata": {},
   "outputs": [],
   "source": [
    "for column in df_store.select_dtypes(include=['object']).columns:\n",
    "    print(f\"Unique values in '{column}': {df_store[column].unique()}\")"
   ]
  },
  {
   "cell_type": "code",
   "execution_count": null,
   "id": "49c3637d-f2c8-4c7b-aa38-251c45453f66",
   "metadata": {},
   "outputs": [],
   "source": [
    "df_store.describe()"
   ]
  },
  {
   "cell_type": "code",
   "execution_count": null,
   "id": "d2308f6c-ed55-47e2-add9-ff0261e27efc",
   "metadata": {},
   "outputs": [],
   "source": [
    "px.box(df_store.select_dtypes(include=['number']))"
   ]
  },
  {
   "cell_type": "markdown",
   "id": "3715fad5-8f8d-4ba5-a68a-23e9e0ee6c48",
   "metadata": {},
   "source": [
    "### Train Data"
   ]
  },
  {
   "cell_type": "code",
   "execution_count": null,
   "id": "e478ab6a",
   "metadata": {},
   "outputs": [],
   "source": [
    "df_train = pd.read_csv(\"train.csv\", parse_dates=[2], dtype={7:object})"
   ]
  },
  {
   "cell_type": "code",
   "execution_count": null,
   "id": "25e02218",
   "metadata": {},
   "outputs": [],
   "source": [
    "# Group by store and aggregate to week\n",
    "df_train.set_index('Date', inplace=True)\n",
    "weekly_sales_by_store = df_train.groupby('Store').resample('W').agg({'Sales': 'sum', 'Customers': 'sum', 'Open': 'sum', 'Promo': 'sum', 'StateHoliday': 'sum', 'SchoolHoliday': 'sum'}).reset_index()\n",
    "weekly_sales_by_store"
   ]
  },
  {
   "cell_type": "code",
   "execution_count": null,
   "id": "b5940abd",
   "metadata": {},
   "outputs": [],
   "source": [
    "# Check non mixing state holidays\n",
    "print(\"Unique values in 'StateHoliday':\", weekly_sales_by_store.StateHoliday.unique())\n",
    "# Create NumStateHoliday with how many state holidays are in the week\n",
    "weekly_sales_by_store['StateHoliday'] = weekly_sales_by_store['StateHoliday'].astype(str)\n",
    "weekly_sales_by_store['NumStateHoliday'] = weekly_sales_by_store['StateHoliday'].apply(lambda x: x.count('a') + x.count('b') + x.count('c'))\n",
    "print(\"Unique values in 'NumStateHoliday':\", weekly_sales_by_store.NumStateHoliday.unique())\n",
    "# Remove aggregated 0 and doubled labels\n",
    "weekly_sales_by_store['StateHoliday'] = weekly_sales_by_store['StateHoliday'].str.extract('(a|b|c)', expand=False).fillna('0')\n",
    "print(\"Unique values in 'StateHoliday':\", weekly_sales_by_store.StateHoliday.unique())"
   ]
  },
  {
   "cell_type": "code",
   "execution_count": null,
   "id": "2569b94d",
   "metadata": {},
   "outputs": [],
   "source": [
    "# Create Month and Year columns\n",
    "weekly_sales_by_store.insert(weekly_sales_by_store.columns.get_loc('Date') + 1, 'CW', weekly_sales_by_store['Date'].dt.isocalendar().week)\n",
    "weekly_sales_by_store.insert(weekly_sales_by_store.columns.get_loc('Date') + 2, 'Month', weekly_sales_by_store['Date'].dt.month)\n",
    "weekly_sales_by_store.insert(weekly_sales_by_store.columns.get_loc('Date') + 3, 'Year', weekly_sales_by_store['Date'].dt.year)\n",
    "weekly_sales_by_store.insert(weekly_sales_by_store.columns.get_loc('Date') + 4, 'DayOfWeek', weekly_sales_by_store['Date'].dt.dayofweek)\n",
    "\n",
    "# Create SalesPerCustomer column\n",
    "weekly_sales_by_store.insert(weekly_sales_by_store.columns.get_loc('Sales') + 1, 'SalesPerCustomer', weekly_sales_by_store['Sales'] / weekly_sales_by_store['Customers'])\n",
    "# Create sales per open day\n",
    "weekly_sales_by_store.insert(weekly_sales_by_store.columns.get_loc('Sales') + 2, 'SalesPerOpenDay', weekly_sales_by_store['Sales'] / weekly_sales_by_store['Open'])\n",
    "# Create customers per open day\n",
    "weekly_sales_by_store.insert(weekly_sales_by_store.columns.get_loc('Customers') + 1, 'CustomersPerOpenDay', weekly_sales_by_store['Customers'] / weekly_sales_by_store['Open'])\n",
    "\n",
    "weekly_sales_by_store.insert(weekly_sales_by_store.columns.get_loc('Promo') + 1, 'IsPromo', np.where(weekly_sales_by_store['Promo'] > 0, 1, 0))\n",
    "weekly_sales_by_store.insert(weekly_sales_by_store.columns.get_loc('StateHoliday') + 1, 'IsStateHoliday', np.where(weekly_sales_by_store['StateHoliday'] != '0', 1, 0))\n",
    "weekly_sales_by_store.insert(weekly_sales_by_store.columns.get_loc('SchoolHoliday') + 1, 'IsSchoolHoliday', np.where(weekly_sales_by_store['SchoolHoliday'] > 0, 1, 0))\n"
   ]
  },
  {
   "cell_type": "code",
   "execution_count": null,
   "id": "9899e658",
   "metadata": {},
   "outputs": [],
   "source": [
    "# Merge df_train with df_store\n",
    "weekly_sales_with_store_info = pd.merge(weekly_sales_by_store, df_store, on='Store', how='left')\n",
    "# Check if all sores were found\n",
    "print(\"Amount of none found stores:\", weekly_sales_with_store_info.Date.isna().sum())"
   ]
  },
  {
   "cell_type": "code",
   "execution_count": null,
   "id": "f28ccd10",
   "metadata": {},
   "outputs": [],
   "source": [
    "# Create Promo2Member column too see if the store joined the Promo2 program\n",
    "def is_promo2_active(row):\n",
    "    if row['Promo2'] == 1:\n",
    "        # Construct the starting date of Promo2\n",
    "        promo2_start_date = datetime.fromisocalendar(int(row['Promo2SinceYear']), int(row['Promo2SinceWeek']), 1)\n",
    "        # Check if the promo was active on the 'Date'\n",
    "        return 1 if promo2_start_date <= row['Date'] else 0\n",
    "    else:\n",
    "        # If Promo2 is not active, return False\n",
    "        return 0\n",
    "\n",
    "# Apply the function across the DataFrame rows\n",
    "weekly_sales_with_store_info['Promo2Member'] = weekly_sales_with_store_info.apply(is_promo2_active, axis=1)"
   ]
  },
  {
   "cell_type": "code",
   "execution_count": null,
   "id": "14333a7f",
   "metadata": {},
   "outputs": [],
   "source": [
    "# Create Promo2Active if current month is in PromoInterval\n",
    "month_dict = {1: 'Jan', 2: 'Feb', 3: 'Mar', 4: 'Apr', 5: 'May', 6: 'Jun', 7: 'Jul', 8: 'Aug', 9: 'Sep', 10: 'Oct', 11: 'Nov', 12: 'Dec'}\n",
    "# if Promo2Member == 1 and Month(conver with month_dict) is in PromoIntervall(has to be splitted), then Promo2Active = 1\n",
    "def is_promo2_active_month(row):\n",
    "\tif row['Promo2Member'] == 1:\n",
    "\t\t# Check if the promo was active on the 'Date'\n",
    "\t\treturn 1 if month_dict[row['Month']] in row['PromoInterval'].split(',') else 0\n",
    "\telse:\n",
    "\t\t# If Promo2 is not active, return False\n",
    "\t\treturn 0\n",
    "\n",
    "# Apply the function across the DataFrame rows\n",
    "weekly_sales_with_store_info['Promo2Active'] = weekly_sales_with_store_info.apply(is_promo2_active_month, axis=1)\n"
   ]
  },
  {
   "cell_type": "code",
   "execution_count": null,
   "id": "abe56e1e",
   "metadata": {},
   "outputs": [],
   "source": [
    "# Create IsCompetition column\n",
    "\n",
    "def is_competition_active(row):\n",
    "\tif row['CompetitionOpenSinceYear'] > 0:\n",
    "\t\t# Construct the starting date of competition\n",
    "\t\tcompetition_start_date = datetime(int(row['CompetitionOpenSinceYear']), int(row['CompetitionOpenSinceMonth']), 1)\n",
    "\t\t# Check if the competition was active on the 'Date'\n",
    "\t\treturn 1 if competition_start_date <= row['Date'] else 0\n",
    "\telse:\n",
    "\t\t# If competition is not active, return False\n",
    "\t\treturn 0\n",
    "\n",
    "# Apply the function across the DataFrame rows\n",
    "weekly_sales_with_store_info.insert(weekly_sales_with_store_info.columns.get_loc('CompetitionOpenSinceYear') + 1, 'IsCompetition', weekly_sales_with_store_info.apply(is_competition_active, axis=1))\n",
    "#weekly_sales_with_store_info.insert(weekly_sales_with_store_info.columns.get_loc('CompetitionOpenSinceYear') + 1, 'IsCompetition', np.where(weekly_sales_with_store_info['CompetitionOpenSinceYear'] > 0, 1, 0))"
   ]
  },
  {
   "cell_type": "code",
   "execution_count": null,
   "id": "3b0baa36",
   "metadata": {},
   "outputs": [],
   "source": [
    "print(weekly_sales_with_store_info.info())\n",
    "weekly_sales_with_store_info.sample(5)"
   ]
  },
  {
   "cell_type": "code",
   "execution_count": null,
   "id": "b8e2ab78",
   "metadata": {},
   "outputs": [],
   "source": [
    "used_df = weekly_sales_with_store_info[['StoreType', 'Sales', 'Customers']]\n",
    "px.box(used_df, color='StoreType')"
   ]
  },
  {
   "cell_type": "code",
   "execution_count": null,
   "id": "2fb2f716",
   "metadata": {},
   "outputs": [],
   "source": [
    "#save df to csv\n",
    "weekly_sales_with_store_info.to_csv(\"weekly_sales_with_store_info.csv\", index=False)\n"
   ]
  },
  {
   "cell_type": "code",
   "execution_count": null,
   "id": "82dd667c-e83e-47c2-9480-2e7e604f9de0",
   "metadata": {},
   "outputs": [],
   "source": []
  },
  {
   "cell_type": "markdown",
   "id": "b6b1cf2c-02bd-4c60-8703-e1d631b38461",
   "metadata": {},
   "source": [
    "# EDA"
   ]
  },
  {
   "cell_type": "code",
   "execution_count": null,
   "id": "d651a89a",
   "metadata": {},
   "outputs": [],
   "source": [
    "\n"
   ]
  },
  {
   "cell_type": "markdown",
   "id": "bbfc221c",
   "metadata": {},
   "source": [
    "## Analyse Hypotheses"
   ]
  },
  {
   "cell_type": "markdown",
   "id": "c3b50dc3",
   "metadata": {},
   "source": [
    "### 1. Promotions"
   ]
  },
  {
   "cell_type": "markdown",
   "id": "8a08b758",
   "metadata": {},
   "source": [
    "#### 1.1 In Wochen mit Werbeaktionen ist der Umsatz, Kundenanzahl und Umsatz je Kunde höher."
   ]
  },
  {
   "cell_type": "code",
   "execution_count": null,
   "id": "a7ef4ae6",
   "metadata": {},
   "outputs": [],
   "source": [
    "# To be compareble only weeks with >5 open days are used\n",
    "used_df = weekly_sales_with_store_info[(weekly_sales_with_store_info['Open'] >= 5)]\n",
    "fig = px.box(used_df.sort_values('StoreType'), x='StoreType', y='SalesPerOpenDay', color='Promo')\n",
    "fig.show()\n",
    "# CustomersPerOpenDay\n",
    "fig = px.box(used_df.sort_values('StoreType'), x='StoreType', y='CustomersPerOpenDay', color='Promo')\n",
    "fig.show()\n",
    "# SalesPerCustomer\n",
    "fig = px.box(used_df.sort_values('StoreType'), x='StoreType', y='SalesPerCustomer', color='Promo')\n",
    "fig.show()\n",
    "\n",
    "# Create a table to show the results of the plots using the mean values of the SalesPerOpenDay, CustomersPerOpenDay and SalesPerCustomer for each StoreType and Promo\n",
    "# Create a new DataFrame with the mean values of the SalesPerOpenDay, CustomersPerOpenDay and SalesPerCustomer\n",
    "median_values = used_df.groupby(['StoreType', 'Promo']).agg({'SalesPerOpenDay': 'median', 'CustomersPerOpenDay': 'median', 'SalesPerCustomer': 'median'}).reset_index()\n",
    "# Add columns with the difference in percent between the mean values of the SalesPerOpenDay, CustomersPerOpenDay and SalesPerCustomer for each StoreType when having a Promo and when not having a Promo. Calculation has to be done only for each secon column to dont mix store types.\n",
    "median_values['SalesPerOpenDayDiff%'] = median_values.groupby('StoreType')['SalesPerOpenDay'].pct_change() * 100\n",
    "median_values['CustomersPerOpenDayDiff%'] = median_values.groupby('StoreType')['CustomersPerOpenDay'].pct_change() * 100\n",
    "median_values['SalesPerCustomerDiff%'] = median_values.groupby('StoreType')['SalesPerCustomer'].pct_change() * 100\n",
    "\n",
    "\n",
    "# Create a pivot table to show the mean values of the SalesPerOpenDay, CustomersPerOpenDay and SalesPerCustomer for each StoreType and Promo\n",
    "median_values_pivot = median_values.pivot_table(index='StoreType', columns='Promo', values=['SalesPerOpenDay', 'CustomersPerOpenDay', 'SalesPerCustomer', 'SalesPerOpenDayDiff%', 'CustomersPerOpenDayDiff%', 'SalesPerCustomerDiff%']).style.format(\"{:.2f}\")\n",
    "median_values_pivot\n"
   ]
  },
  {
   "cell_type": "code",
   "execution_count": null,
   "id": "798cf649",
   "metadata": {},
   "outputs": [],
   "source": [
    "# show the diff columns in a plotly bar plot unsing subplots\n",
    "fig = make_subplots(rows=1, cols=3, subplot_titles=(\"SalesPerOpenDayDiff%\", \"CustomersPerOpenDayDiff%\", \"SalesPerCustomerDiff%\"))\n",
    "fig.add_trace(go.Bar(x=median_values['StoreType'], y=median_values['SalesPerOpenDayDiff%'], name='SalesPerOpenDayDiff%'), row=1, col=1)\n",
    "fig.add_trace(go.Bar(x=median_values['StoreType'], y=median_values['CustomersPerOpenDayDiff%'], name='CustomersPerOpenDayDiff%'), row=1, col=2)\n",
    "fig.add_trace(go.Bar(x=median_values['StoreType'], y=median_values['SalesPerCustomerDiff%'], name='SalesPerCustomerDiff%'), row=1, col=3)\n",
    "fig.update_layout(title_text=\"Difference in percent between Promo and non Promo weeks for each StoreType\")\n",
    "fig.show()"
   ]
  },
  {
   "cell_type": "markdown",
   "id": "4ec6c0ce",
   "metadata": {},
   "source": [
    "**Result:** Hypothesis is true. The sales, customers and sales per customer are higher in weeks with promotions.\n",
    "- Sales per day is ~ 35% higher\n",
    "- Customers per day is ~ 19% higher\n",
    "- Sales per customer is ~ 13% higher\n",
    "- Stortype b is quite different. It just has 1/3 of the promotion impact."
   ]
  },
  {
   "cell_type": "markdown",
   "id": "6e7cdc90",
   "metadata": {},
   "source": [
    "### 2. Promotion2  \n",
    "#### 2.1 In Monaten mit Promo2 ist der Umsatz, Kundenanzahl und Umsatz je Kunde höher.  \n"
   ]
  },
  {
   "cell_type": "code",
   "execution_count": null,
   "id": "a8a518a6",
   "metadata": {},
   "outputs": [],
   "source": [
    "# To be compareble only weeks with >5 open days are used\n",
    "used_df = weekly_sales_with_store_info[(weekly_sales_with_store_info['Promo2'] == 1) & (weekly_sales_with_store_info['Promo2Member'] == 1)]\n",
    "\n",
    "fig = px.box(used_df.sort_values('StoreType'), x='StoreType', y='SalesPerOpenDay', color='Promo2Active')\n",
    "fig.show()\n",
    "# CustomersPerOpenDay\n",
    "fig = px.box(used_df.sort_values('StoreType'), x='StoreType', y='CustomersPerOpenDay', color='Promo2Active')\n",
    "fig.show()\n",
    "# SalesPerCustomer\n",
    "fig = px.box(used_df.sort_values('StoreType'), x='StoreType', y='SalesPerCustomer', color='Promo2Active')\n",
    "fig.show()\n",
    "\n",
    "\n",
    "# Create a table to show the results of the plots using the mean values of the SalesPerOpenDay, CustomersPerOpenDay and SalesPerCustomer for each StoreType and Promo\n",
    "# Create a new DataFrame with the mean values of the SalesPerOpenDay, CustomersPerOpenDay and SalesPerCustomer\n",
    "median_values = used_df.groupby(['StoreType', 'Promo2Active']).agg({'SalesPerOpenDay': 'median', 'CustomersPerOpenDay': 'median', 'SalesPerCustomer': 'median'}).reset_index()\n",
    "# Add columns with the difference in percent between the mean values of the SalesPerOpenDay, CustomersPerOpenDay and SalesPerCustomer for each StoreType when having a Promo and when not having a Promo. Calculation has to be done only for each secon column to dont mix store types.\n",
    "median_values['SalesPerOpenDayDiff%'] = median_values.groupby('StoreType')['SalesPerOpenDay'].pct_change() * 100\n",
    "median_values['CustomersPerOpenDayDiff%'] = median_values.groupby('StoreType')['CustomersPerOpenDay'].pct_change() * 100\n",
    "median_values['SalesPerCustomerDiff%'] = median_values.groupby('StoreType')['SalesPerCustomer'].pct_change() * 100\n",
    "\n",
    "\n",
    "# Create a pivot table to show the mean values of the SalesPerOpenDay, CustomersPerOpenDay and SalesPerCustomer for each StoreType and Promo\n",
    "median_values_pivot = median_values.pivot_table(index='StoreType', columns='Promo2Active', values=['SalesPerOpenDay', 'CustomersPerOpenDay', 'SalesPerCustomer', 'SalesPerOpenDayDiff%', 'CustomersPerOpenDayDiff%', 'SalesPerCustomerDiff%']).style.format(\"{:.2f}\")\n",
    "median_values_pivot"
   ]
  },
  {
   "cell_type": "code",
   "execution_count": null,
   "id": "d9df4a81",
   "metadata": {},
   "outputs": [],
   "source": [
    "# see amount of data\n",
    "median_values_amount = used_df.groupby(['StoreType', 'Promo2Active']).agg({\n",
    "    'SalesPerOpenDay': ['median', 'count'], \n",
    "    'CustomersPerOpenDay': ['median', 'count'], \n",
    "    'SalesPerCustomer': ['median', 'count']\n",
    "}).reset_index()\n",
    "median_values_amount"
   ]
  },
  {
   "cell_type": "code",
   "execution_count": null,
   "id": "63799640",
   "metadata": {},
   "outputs": [],
   "source": [
    "# show the diff columns in a plotly bar plot unsing subplots\n",
    "fig = make_subplots(rows=1, cols=3, subplot_titles=(\"SalesPerOpenDayDiff%\", \"CustomersPerOpenDayDiff%\", \"SalesPerCustomerDiff%\"))\n",
    "fig.add_trace(go.Bar(x=median_values['StoreType'], y=median_values['SalesPerOpenDayDiff%'], name='SalesPerOpenDayDiff%'), row=1, col=1)\n",
    "fig.add_trace(go.Bar(x=median_values['StoreType'], y=median_values['CustomersPerOpenDayDiff%'], name='CustomersPerOpenDayDiff%'), row=1, col=2)\n",
    "fig.add_trace(go.Bar(x=median_values['StoreType'], y=median_values['SalesPerCustomerDiff%'], name='SalesPerCustomerDiff%'), row=1, col=3)\n",
    "fig.update_layout(title_text=\"Difference in percent between Promo and non Promo weeks for each StoreType\")\n",
    "fig.show()"
   ]
  },
  {
   "cell_type": "markdown",
   "id": "b00dfeda",
   "metadata": {},
   "source": [
    "**Result**: Hypothesis is not really true.\n",
    "- Sales per day is ~ 0.4% higher\n",
    "- Customers per day is the nearly the same as without Promo2\n",
    "- Sales per customer is ~ 0.4% higher"
   ]
  },
  {
   "cell_type": "markdown",
   "id": "eda76474",
   "metadata": {},
   "source": [
    "#### 2.2 Seit der Store bei Promo2 mitmacht, ist der Umsatz, Kundenanzahl und Umsatz je Kunde höher auch ausserhalb der Promo2 Aktionen."
   ]
  },
  {
   "cell_type": "code",
   "execution_count": null,
   "id": "f3e96aba",
   "metadata": {},
   "outputs": [],
   "source": [
    "# To be compareble only weeks with >5 open days are used\n",
    "used_df = weekly_sales_with_store_info[(weekly_sales_with_store_info['Promo2'] == 1)]\n",
    "\n",
    "fig = px.box(used_df.sort_values('StoreType'), x='StoreType', y='SalesPerOpenDay', color='Promo2Member')\n",
    "fig.show()\n",
    "# CustomersPerOpenDay\n",
    "fig = px.box(used_df.sort_values('StoreType'), x='StoreType', y='CustomersPerOpenDay', color='Promo2Member')\n",
    "fig.show()\n",
    "# SalesPerCustomer\n",
    "fig = px.box(used_df.sort_values('StoreType'), x='StoreType', y='SalesPerCustomer', color='Promo2Member')\n",
    "fig.show()\n",
    "\n",
    "\n",
    "# Create a table to show the results of the plots using the mean values of the SalesPerOpenDay, CustomersPerOpenDay and SalesPerCustomer for each StoreType and Promo\n",
    "# Create a new DataFrame with the mean values of the SalesPerOpenDay, CustomersPerOpenDay and SalesPerCustomer\n",
    "median_values = used_df.groupby(['StoreType', 'Promo2Member']).agg({'SalesPerOpenDay': 'median', 'CustomersPerOpenDay': 'median', 'SalesPerCustomer': 'median'}).reset_index()\n",
    "# Add columns with the difference in percent between the mean values of the SalesPerOpenDay, CustomersPerOpenDay and SalesPerCustomer for each StoreType when having a Promo and when not having a Promo. Calculation has to be done only for each secon column to dont mix store types.\n",
    "median_values['SalesPerOpenDayDiff%'] = median_values.groupby('StoreType')['SalesPerOpenDay'].pct_change() * 100\n",
    "median_values['CustomersPerOpenDayDiff%'] = median_values.groupby('StoreType')['CustomersPerOpenDay'].pct_change() * 100\n",
    "median_values['SalesPerCustomerDiff%'] = median_values.groupby('StoreType')['SalesPerCustomer'].pct_change() * 100\n",
    "\n",
    "\n",
    "# Create a pivot table to show the mean values of the SalesPerOpenDay, CustomersPerOpenDay and SalesPerCustomer for each StoreType and Promo\n",
    "median_values_pivot = median_values.pivot_table(index='StoreType', columns='Promo2Member', values=['SalesPerOpenDay', 'CustomersPerOpenDay', 'SalesPerCustomer', 'SalesPerOpenDayDiff%', 'CustomersPerOpenDayDiff%', 'SalesPerCustomerDiff%']).style.format(\"{:.2f}\")\n",
    "median_values_pivot"
   ]
  },
  {
   "cell_type": "code",
   "execution_count": null,
   "id": "b1acb732",
   "metadata": {},
   "outputs": [],
   "source": [
    "median_values_amount = used_df.groupby(['StoreType', 'Promo2Member']).agg({\n",
    "    'SalesPerOpenDay': ['median', 'count'], \n",
    "    'CustomersPerOpenDay': ['median', 'count'], \n",
    "    'SalesPerCustomer': ['median', 'count']\n",
    "}).reset_index()\n",
    "median_values_amount"
   ]
  },
  {
   "cell_type": "markdown",
   "id": "f25c299d",
   "metadata": {},
   "source": [
    "**Result**: Hypothesis is not true at all.\n",
    "- Sales per day is ~ -10% lower\n",
    "- Customers per day is ~ -12% lower\n",
    "- Sales per customer is ~ -0,3% lower"
   ]
  },
  {
   "cell_type": "markdown",
   "id": "0e6dbd50",
   "metadata": {},
   "source": [
    "### 3. Schulferien   "
   ]
  },
  {
   "cell_type": "markdown",
   "id": "59f44984",
   "metadata": {},
   "source": [
    "#### 3.1 In Wochen mit Schulferien ist der Umsatz niedriger.  \n"
   ]
  },
  {
   "cell_type": "code",
   "execution_count": null,
   "id": "3b02b7d2",
   "metadata": {},
   "outputs": [],
   "source": [
    "# To be unbiased only weeks where is no StateHolidays.\n",
    "used_df = weekly_sales_with_store_info[weekly_sales_with_store_info['IsStateHoliday'] == 0]\n",
    "fig = px.box(used_df.sort_values('StoreType'), x='StoreType', y='SalesPerOpenDay', color='IsSchoolHoliday')\n",
    "fig.show()\n",
    "# CustomersPerOpenDay\n",
    "fig = px.box(used_df.sort_values('StoreType'), x='StoreType', y='CustomersPerOpenDay', color='IsSchoolHoliday')\n",
    "fig.show()\n",
    "# SalesPerCustomer\n",
    "fig = px.box(used_df.sort_values('StoreType'), x='StoreType', y='SalesPerCustomer', color='IsSchoolHoliday')\n",
    "fig.show()\n",
    "\n",
    "# Create a table to show the results of the plots using the mean values of the SalesPerOpenDay, CustomersPerOpenDay and SalesPerCustomer for each StoreType and Promo\n",
    "# Create a new DataFrame with the mean values of the SalesPerOpenDay, CustomersPerOpenDay and SalesPerCustomer\n",
    "median_values = used_df.groupby(['StoreType', 'IsSchoolHoliday']).agg({'SalesPerOpenDay': 'median', 'CustomersPerOpenDay': 'median', 'SalesPerCustomer': 'median'}).reset_index()\n",
    "# Add columns with the difference in percent between the mean values of the SalesPerOpenDay, CustomersPerOpenDay and SalesPerCustomer for each StoreType when having a Promo and when not having a Promo. Calculation has to be done only for each secon column to dont mix store types.\n",
    "median_values['SalesPerOpenDayDiff%'] = median_values.groupby('StoreType')['SalesPerOpenDay'].pct_change() * 100\n",
    "median_values['CustomersPerOpenDayDiff%'] = median_values.groupby('StoreType')['CustomersPerOpenDay'].pct_change() * 100\n",
    "median_values['SalesPerCustomerDiff%'] = median_values.groupby('StoreType')['SalesPerCustomer'].pct_change() * 100\n",
    "\n",
    "\n",
    "# Create a pivot table to show the mean values of the SalesPerOpenDay, CustomersPerOpenDay and SalesPerCustomer for each StoreType and Promo\n",
    "median_values_pivot = median_values.pivot_table(index='StoreType', columns='IsSchoolHoliday', values=['SalesPerOpenDay', 'CustomersPerOpenDay', 'SalesPerCustomer', 'SalesPerOpenDayDiff%', 'CustomersPerOpenDayDiff%', 'SalesPerCustomerDiff%']).style.format(\"{:.2f}\")\n",
    "median_values_pivot"
   ]
  },
  {
   "cell_type": "code",
   "execution_count": null,
   "id": "0d0b844a",
   "metadata": {},
   "outputs": [],
   "source": [
    "# show the diff columns in a plotly bar plot unsing subplots\n",
    "fig = make_subplots(rows=1, cols=3, subplot_titles=(\"SalesPerOpenDayDiff%\", \"CustomersPerOpenDayDiff%\", \"SalesPerCustomerDiff%\"))\n",
    "fig.add_trace(go.Bar(x=median_values['StoreType'], y=median_values['SalesPerOpenDayDiff%'], name='SalesPerOpenDayDiff%'), row=1, col=1)\n",
    "fig.add_trace(go.Bar(x=median_values['StoreType'], y=median_values['CustomersPerOpenDayDiff%'], name='CustomersPerOpenDayDiff%'), row=1, col=2)\n",
    "fig.add_trace(go.Bar(x=median_values['StoreType'], y=median_values['SalesPerCustomerDiff%'], name='SalesPerCustomerDiff%'), row=1, col=3)\n",
    "fig.update_layout(title_text=\"Difference in percent between SchoolHoliday and non SchoolHoliday weeks for each StoreType\")\n",
    "fig.show()"
   ]
  },
  {
   "cell_type": "markdown",
   "id": "293f25bc",
   "metadata": {},
   "source": [
    "**Result** Hypothesis is just true for storetype a.\n",
    "- For Storetype a the sales on Schooldays are 1.3% lower.\n",
    "- For Storetype b the sales on Schooldays are 4.6% higher.\n",
    "- For Storetype c and d the sales on Schooldays are nearly the same higher with 0.7% and 0.9%."
   ]
  },
  {
   "cell_type": "markdown",
   "id": "30e14f97",
   "metadata": {},
   "source": [
    "#### 3.2 In Wochen mit Schulferien ist der Umsatz je Kunde niedriger."
   ]
  },
  {
   "cell_type": "markdown",
   "id": "0a2ff2d0",
   "metadata": {},
   "source": [
    "**Result** Hypothesis just true for storetype d.\n",
    "- For Storetype a the sales per customer on Schooldays are 0.6& higher.\n",
    "- For Storetype b the sales per customer on Schooldays are 5.3% higher.\n",
    "- For Storetype c there is no differnce compared no other days.\n",
    "- For Storetype d the sales per customer on Schooldays are 1.1% lower."
   ]
  },
  {
   "cell_type": "markdown",
   "id": "ba2db931",
   "metadata": {},
   "source": []
  },
  {
   "cell_type": "markdown",
   "id": "bc618daf",
   "metadata": {},
   "source": [
    "### 4. Feiertage\n",
    "#### 4.1 In Wochen mit Feiertagen ist der Umsatz niedriger.  "
   ]
  },
  {
   "cell_type": "code",
   "execution_count": null,
   "id": "ee41c4ad",
   "metadata": {},
   "outputs": [],
   "source": [
    "# To be unbiased only weeks where is no StateHolidays.\n",
    "used_df = weekly_sales_with_store_info\n",
    "\n",
    "fig = px.box(used_df.sort_values('StoreType'), x='StoreType', y='Sales', color='IsStateHoliday')\n",
    "fig.show()\n",
    "\n",
    "\n",
    "# Create a table to show the results of the plots using the mean values of the SalesPerOpenDay, CustomersPerOpenDay and SalesPerCustomer for each StoreType and Promo\n",
    "# Create a new DataFrame with the mean values of the SalesPerOpenDay, CustomersPerOpenDay and SalesPerCustomer\n",
    "median_values = used_df.groupby(['StoreType', 'IsStateHoliday']).agg({'Sales': 'median'}).reset_index()\n",
    "# Add columns with the difference in percent between the mean values of the SalesPerOpenDay, CustomersPerOpenDay and SalesPerCustomer for each StoreType when having a Promo and when not having a Promo. Calculation has to be done only for each secon column to dont mix store types.\n",
    "median_values['SalesDiff%'] = median_values.groupby('StoreType')['Sales'].pct_change() * 100\n",
    "\n",
    "# Create a pivot table to show the mean values of the SalesPerOpenDay, CustomersPerOpenDay and SalesPerCustomer for each StoreType and Promo\n",
    "median_values_pivot = median_values.pivot_table(index='StoreType', columns='IsStateHoliday', values=['Sales', 'SalesDiff%']).style.format(\"{:.2f}\")\n",
    "median_values_pivot"
   ]
  },
  {
   "cell_type": "code",
   "execution_count": null,
   "id": "f86d3c47",
   "metadata": {},
   "outputs": [],
   "source": [
    "px.bar(median_values, x='StoreType', y='SalesDiff%', title='Difference in percent between StateHoliday and non StateHoliday weeks for each StoreType')"
   ]
  },
  {
   "cell_type": "code",
   "execution_count": null,
   "id": "3a6d383f",
   "metadata": {},
   "outputs": [],
   "source": [
    "# Check how many days store b is open if in the week is a StateHoliday\n",
    "weekly_sales_with_store_info[(weekly_sales_with_store_info['StoreType'] == 'b') & (weekly_sales_with_store_info['IsStateHoliday'] == 1)]['Open'].value_counts()"
   ]
  },
  {
   "cell_type": "markdown",
   "id": "6f2b24e7",
   "metadata": {},
   "source": [
    "**Result** Hypothesis is true for all storetypes exept storetype b.\n",
    "- For Storetype a the sales on holidays are 13% lower.\n",
    "- For Storetype b the sales on holidays are 1.5% higher, but this is due to that the stores are mostly opend all 7 days a week.\n",
    "- For Storetype c the sales on holidays are 10.5% lower.\n",
    "- For Storetype d the sales on holidays are 9.4% lower."
   ]
  },
  {
   "cell_type": "markdown",
   "id": "edc9a76d",
   "metadata": {},
   "source": [
    "#### 4.2 In Wochen mit Feiertagen wird an den anderen Tagen mehr gekauft.\n"
   ]
  },
  {
   "cell_type": "code",
   "execution_count": null,
   "id": "1ac940aa",
   "metadata": {},
   "outputs": [],
   "source": [
    "# To be unbiased only weeks where is no StateHolidays.\n",
    "used_df = weekly_sales_with_store_info\n",
    "\n",
    "fig = px.box(used_df.sort_values('StoreType'), x='StoreType', y='SalesPerOpenDay', color='IsStateHoliday')\n",
    "fig.show()\n",
    "# CustomersPerOpenDay\n",
    "fig = px.box(used_df.sort_values('StoreType'), x='StoreType', y='CustomersPerOpenDay', color='IsStateHoliday')\n",
    "fig.show()\n",
    "# SalesPerCustomer\n",
    "fig = px.box(used_df.sort_values('StoreType'), x='StoreType', y='SalesPerCustomer', color='IsStateHoliday')\n",
    "fig.show()\n",
    "\n",
    "# Create a table to show the results of the plots using the mean values of the SalesPerOpenDay, CustomersPerOpenDay and SalesPerCustomer for each StoreType and Promo\n",
    "# Create a new DataFrame with the mean values of the SalesPerOpenDay, CustomersPerOpenDay and SalesPerCustomer\n",
    "median_values = used_df.groupby(['StoreType', 'IsStateHoliday']).agg({'SalesPerOpenDay': 'median', 'CustomersPerOpenDay': 'median', 'SalesPerCustomer': 'median'}).reset_index()\n",
    "# Add columns with the difference in percent between the mean values of the SalesPerOpenDay, CustomersPerOpenDay and SalesPerCustomer for each StoreType when having a Promo and when not having a Promo. Calculation has to be done only for each secon column to dont mix store types.\n",
    "median_values['SalesPerOpenDayDiff%'] = median_values.groupby('StoreType')['SalesPerOpenDay'].pct_change() * 100\n",
    "median_values['CustomersPerOpenDayDiff%'] = median_values.groupby('StoreType')['CustomersPerOpenDay'].pct_change() * 100\n",
    "median_values['SalesPerCustomerDiff%'] = median_values.groupby('StoreType')['SalesPerCustomer'].pct_change() * 100\n",
    "\n",
    "\n",
    "# Create a pivot table to show the mean values of the SalesPerOpenDay, CustomersPerOpenDay and SalesPerCustomer for each StoreType and Promo\n",
    "median_values_pivot = median_values.pivot_table(index='StoreType', columns='IsStateHoliday', values=['SalesPerOpenDay', 'CustomersPerOpenDay', 'SalesPerCustomer', 'SalesPerOpenDayDiff%', 'CustomersPerOpenDayDiff%', 'SalesPerCustomerDiff%']).style.format(\"{:.2f}\")\n",
    "median_values_pivot"
   ]
  },
  {
   "cell_type": "code",
   "execution_count": null,
   "id": "a2ae8a87",
   "metadata": {},
   "outputs": [],
   "source": [
    "# show the diff columns in a plotly bar plot unsing subplots\n",
    "fig = make_subplots(rows=1, cols=3, subplot_titles=(\"SalesPerOpenDayDiff%\", \"CustomersPerOpenDayDiff%\", \"SalesPerCustomerDiff%\"))\n",
    "fig.add_trace(go.Bar(x=median_values['StoreType'], y=median_values['SalesPerOpenDayDiff%'], name='SalesPerOpenDayDiff%'), row=1, col=1)\n",
    "fig.add_trace(go.Bar(x=median_values['StoreType'], y=median_values['CustomersPerOpenDayDiff%'], name='CustomersPerOpenDayDiff%'), row=1, col=2)\n",
    "fig.add_trace(go.Bar(x=median_values['StoreType'], y=median_values['SalesPerCustomerDiff%'], name='SalesPerCustomerDiff%'), row=1, col=3)\n",
    "fig.update_layout(title_text=\"Difference in percent between StateHolidays and non StateHolidays weeks for each StoreType\")\n",
    "fig.show()"
   ]
  },
  {
   "cell_type": "markdown",
   "id": "e4bbc98e",
   "metadata": {},
   "source": [
    "**Result** Hypothesis is true for all storetypes exept storetype b.\n",
    "- For Storetype a the sales on a open day within a holiday week are 4.5% higher.\n",
    "- For Storetype b the sales are equal but it is due to the fact that the stores are mostly opend all 7 days a week.\n",
    "- For Storetype c and d the sales on a open day within a holiday week are 8.0% higher."
   ]
  },
  {
   "cell_type": "markdown",
   "id": "3a50c869",
   "metadata": {},
   "source": [
    "### 5. Wochentag  \n",
    "#### 5.1 Am Wochenende wird weniger gekauft, da die Leute unterwegs sind."
   ]
  },
  {
   "cell_type": "code",
   "execution_count": null,
   "id": "1289143f",
   "metadata": {},
   "outputs": [],
   "source": [
    "fig = px.histogram(df_train, x='DayOfWeek', y='Sales', histfunc='avg')\n",
    "fig.show()"
   ]
  },
  {
   "cell_type": "code",
   "execution_count": null,
   "id": "11cf5f4d",
   "metadata": {},
   "outputs": [],
   "source": [
    "df_train_merged = pd.merge(df_train, df_store, on='Store', how='left').sort_values(by='StoreType')\n",
    "# create plotly histogramm with y sales and x DayOfWeek\n",
    "plt.figure(figsize=(20, 10))\n",
    "fig = px.histogram(df_train_merged, x='DayOfWeek', y='Sales', histfunc='avg', title='Sales per DayOfWeek', facet_row='StoreType')\n",
    "fig.update_layout(width=1000, height=800)\n",
    "fig.show()\n"
   ]
  },
  {
   "cell_type": "code",
   "execution_count": null,
   "id": "b98c20ff",
   "metadata": {},
   "outputs": [],
   "source": [
    "(df_train_merged[(df_train_merged['StoreType'] == 'a') & (df_train_merged['DayOfWeek'] == 6)]['Sales'].mean() - df_train_merged[(df_train_merged['StoreType'] == 'a') & (df_train_merged['DayOfWeek'] >= 1) & (df_train_merged['DayOfWeek'] <= 5)]['Sales'].mean()) / df_train_merged[(df_train_merged['StoreType'] == 'a') & (df_train_merged['DayOfWeek'] == 6)]['Sales'].mean()"
   ]
  },
  {
   "cell_type": "markdown",
   "id": "91e66f12",
   "metadata": {},
   "source": [
    "**Result** Hypothesis is true except for StoreType b.\n",
    "- In average, on a Saturday there is 30% less sales as within the week"
   ]
  },
  {
   "cell_type": "markdown",
   "id": "a13dd6b0",
   "metadata": {},
   "source": [
    "### 6. Assortment  \n",
    "#### 6.1 Stores mit extra Sortiment haben höheren Umsatz als Basis Stores  \n"
   ]
  },
  {
   "cell_type": "code",
   "execution_count": null,
   "id": "d91594ab",
   "metadata": {},
   "outputs": [],
   "source": [
    "# To be unbiased only weeks where is no StateHolidays.\n",
    "used_df = weekly_sales_with_store_info\n",
    "\n",
    "fig = px.box(used_df.sort_values('StoreType'), x='StoreType', y='SalesPerOpenDay', color='Assortment')\n",
    "fig.show()\n",
    "# CustomersPerOpenDay\n",
    "fig = px.box(used_df.sort_values('StoreType'), x='StoreType', y='CustomersPerOpenDay', color='Assortment')\n",
    "fig.show()\n",
    "# SalesPerCustomer\n",
    "fig = px.box(used_df.sort_values('StoreType'), x='StoreType', y='SalesPerCustomer', color='Assortment')\n",
    "fig.show()"
   ]
  },
  {
   "cell_type": "code",
   "execution_count": null,
   "id": "f5d35bd3",
   "metadata": {},
   "outputs": [],
   "source": [
    "# Calculate difference between assortment a and b\n",
    "used_df = weekly_sales_with_store_info[(weekly_sales_with_store_info['Assortment'] == 'a') | (weekly_sales_with_store_info['Assortment'] == 'b')]\n",
    "\n",
    "# Create a table to show the results of the plots using the mean values of the SalesPerOpenDay, CustomersPerOpenDay and SalesPerCustomer for each StoreType and Promo\n",
    "# Create a new DataFrame with the mean values of the SalesPerOpenDay, CustomersPerOpenDay and SalesPerCustomer\n",
    "median_values = used_df.groupby(['StoreType', 'Assortment']).agg({'SalesPerOpenDay': 'median', 'CustomersPerOpenDay': 'median', 'SalesPerCustomer': 'median'}).reset_index()\n",
    "# Add columns with the difference in percent between the mean values of the SalesPerOpenDay, CustomersPerOpenDay and SalesPerCustomer for each StoreType and the different assortments.\n",
    "#median_values['SalesPerOpenDayDiffAssortmentA-B%'] = median_values[(median_values['Assortment'] == 'a') & (median_values['StoreType'] == 'b')].groupby('StoreType')['SalesPerOpenDay'].pct_change() * 100\n",
    "\n",
    "median_values['SalesPerOpenDayDiff%'] = median_values.groupby('StoreType')['SalesPerOpenDay'].pct_change() * 100\n",
    "median_values['CustomersPerOpenDayDiff%'] = median_values.groupby('StoreType')['CustomersPerOpenDay'].pct_change() * 100\n",
    "median_values['SalesPerCustomerDiff%'] = median_values.groupby('StoreType')['SalesPerCustomer'].pct_change() * 100\n",
    "\n",
    "# Create a pivot table to show the mean values of the SalesPerOpenDay, CustomersPerOpenDay and SalesPerCustomer for each StoreType and Promo\n",
    "median_values_pivot = median_values.pivot_table(index='StoreType', columns='Assortment', values=['SalesPerOpenDay', 'CustomersPerOpenDay', 'SalesPerCustomer', 'SalesPerOpenDayDiff%', 'CustomersPerOpenDayDiff%', 'SalesPerCustomerDiff%']).style.format(\"{:.2f}\")\n",
    "median_values_pivot"
   ]
  },
  {
   "cell_type": "markdown",
   "id": "827757d0",
   "metadata": {},
   "source": [
    "**Result** Hypothesis is false.\n",
    "- Only Storetype b has the assortment caregory extra(b).\n",
    "- The sales in Storetype b for assortment extra is 18% less then for assortment basic(a).\n",
    "- They have 9.3% more customers but 34% less sales per customer."
   ]
  },
  {
   "cell_type": "markdown",
   "id": "3ef6e805",
   "metadata": {},
   "source": [
    "#### 6.2 Stores mit erweitertem Sortiment haben höheren Umsatz als Basis und Extra Stores"
   ]
  },
  {
   "cell_type": "code",
   "execution_count": null,
   "id": "7262badf",
   "metadata": {},
   "outputs": [],
   "source": [
    "# Calculate difference between assortment a and c\n",
    "used_df = weekly_sales_with_store_info[(weekly_sales_with_store_info['Assortment'] == 'a') | (weekly_sales_with_store_info['Assortment'] == 'c')]\n",
    "\n",
    "# Create a table to show the results of the plots using the mean values of the SalesPerOpenDay, CustomersPerOpenDay and SalesPerCustomer for each StoreType and Promo\n",
    "# Create a new DataFrame with the mean values of the SalesPerOpenDay, CustomersPerOpenDay and SalesPerCustomer\n",
    "median_values = used_df.groupby(['StoreType', 'Assortment']).agg({'SalesPerOpenDay': 'median', 'CustomersPerOpenDay': 'median', 'SalesPerCustomer': 'median'}).reset_index()\n",
    "# Add columns with the difference in percent between the mean values of the SalesPerOpenDay, CustomersPerOpenDay and SalesPerCustomer for each StoreType and the different assortments.\n",
    "#median_values['SalesPerOpenDayDiffAssortmentA-B%'] = median_values[(median_values['Assortment'] == 'a') & (median_values['StoreType'] == 'b')].groupby('StoreType')['SalesPerOpenDay'].pct_change() * 100\n",
    "\n",
    "median_values['SalesPerOpenDayDiff%'] = median_values.groupby('StoreType')['SalesPerOpenDay'].pct_change() * 100\n",
    "median_values['CustomersPerOpenDayDiff%'] = median_values.groupby('StoreType')['CustomersPerOpenDay'].pct_change() * 100\n",
    "median_values['SalesPerCustomerDiff%'] = median_values.groupby('StoreType')['SalesPerCustomer'].pct_change() * 100\n",
    "\n",
    "# Create a pivot table to show the mean values of the SalesPerOpenDay, CustomersPerOpenDay and SalesPerCustomer for each StoreType and Promo\n",
    "median_values_pivot = median_values.pivot_table(index='StoreType', columns='Assortment', values=['SalesPerOpenDay', 'CustomersPerOpenDay', 'SalesPerCustomer', 'SalesPerOpenDayDiff%', 'CustomersPerOpenDayDiff%', 'SalesPerCustomerDiff%']).style.format(\"{:.2f}\")\n",
    "median_values_pivot\n"
   ]
  },
  {
   "cell_type": "code",
   "execution_count": null,
   "id": "27af3052",
   "metadata": {},
   "outputs": [],
   "source": [
    "# Calculate difference between assortment b and c\n",
    "used_df = weekly_sales_with_store_info[(weekly_sales_with_store_info['Assortment'] == 'b') | (weekly_sales_with_store_info['Assortment'] == 'c')]\n",
    "\n",
    "# Create a table to show the results of the plots using the mean values of the SalesPerOpenDay, CustomersPerOpenDay and SalesPerCustomer for each StoreType and Promo\n",
    "# Create a new DataFrame with the mean values of the SalesPerOpenDay, CustomersPerOpenDay and SalesPerCustomer\n",
    "median_values = used_df.groupby(['StoreType', 'Assortment']).agg({'SalesPerOpenDay': 'median', 'CustomersPerOpenDay': 'median', 'SalesPerCustomer': 'median'}).reset_index()\n",
    "# Add columns with the difference in percent between the mean values of the SalesPerOpenDay, CustomersPerOpenDay and SalesPerCustomer for each StoreType and the different assortments.\n",
    "#median_values['SalesPerOpenDayDiffAssortmentA-B%'] = median_values[(median_values['Assortment'] == 'a') & (median_values['StoreType'] == 'b')].groupby('StoreType')['SalesPerOpenDay'].pct_change() * 100\n",
    "\n",
    "median_values['SalesPerOpenDayDiff%'] = median_values.groupby('StoreType')['SalesPerOpenDay'].pct_change() * 100\n",
    "median_values['CustomersPerOpenDayDiff%'] = median_values.groupby('StoreType')['CustomersPerOpenDay'].pct_change() * 100\n",
    "median_values['SalesPerCustomerDiff%'] = median_values.groupby('StoreType')['SalesPerCustomer'].pct_change() * 100\n",
    "\n",
    "# Create a pivot table to show the mean values of the SalesPerOpenDay, CustomersPerOpenDay and SalesPerCustomer for each StoreType and Promo\n",
    "median_values_pivot = median_values.pivot_table(index='StoreType', columns='Assortment', values=['SalesPerOpenDay', 'CustomersPerOpenDay', 'SalesPerCustomer', 'SalesPerOpenDayDiff%', 'CustomersPerOpenDayDiff%', 'SalesPerCustomerDiff%']).style.format(\"{:.2f}\")\n",
    "median_values_pivot"
   ]
  },
  {
   "cell_type": "markdown",
   "id": "19706b4b",
   "metadata": {},
   "source": [
    "**Result** Hypothesis is mostly true.\n",
    "- Only Storetype b has the assortment caregory extra(b).\n",
    "- The sales for assortment erweitert(c) is in average 26%(16%,81%,-2%,8%) higher then for assortment basic(a).\n",
    "- The sales for assortment erweitert(c) is 121% higher then for assortment extra(b)."
   ]
  },
  {
   "cell_type": "markdown",
   "id": "9a9712a5",
   "metadata": {},
   "source": [
    "### 7. CompetitionDistance  \n",
    "#### 7.1 Je näher der Wettbewerber, desto niedriger der Umsatz.  \n"
   ]
  },
  {
   "cell_type": "code",
   "execution_count": null,
   "id": "f5b4cc1f",
   "metadata": {},
   "outputs": [],
   "source": [
    "\n",
    "sns.lmplot(x='CompetitionDistance', y='SalesPerCustomer', data=weekly_sales_with_store_info, hue='StoreType', fit_reg=False, x_bins=150, height=10\n",
    "           , aspect=2\n",
    "           )\n"
   ]
  },
  {
   "cell_type": "markdown",
   "id": "adbac440",
   "metadata": {},
   "source": [
    "**Result** Hypothesis is nearly true for storeType a, c, d.\n",
    "- The sales per customer is rising if the distance to the competeter is getting up to 10km. After that the sales per customer is falling until 20km and is rising again after 20km.\n"
   ]
  },
  {
   "cell_type": "markdown",
   "id": "24da779c",
   "metadata": {},
   "source": [
    "#### 7.2 Seit dem Wettbewerber eröffnet hat, ist der Umsatz niedriger."
   ]
  },
  {
   "cell_type": "code",
   "execution_count": null,
   "id": "67d8ca2a",
   "metadata": {},
   "outputs": [],
   "source": [
    "used_df = weekly_sales_with_store_info[(weekly_sales_with_store_info['Store'] >= 0) & (weekly_sales_with_store_info['Store'] <= 100) & (weekly_sales_with_store_info['IsCompetition'].mean() > 0)].sort_values('Store')\n",
    "plt.figure(figsize=(20, 10))\n",
    "sns.barplot(x='Store', y='SalesPerCustomer', data=used_df, hue='IsCompetition', errorbar=None)"
   ]
  },
  {
   "cell_type": "code",
   "execution_count": null,
   "id": "8e617708",
   "metadata": {},
   "outputs": [],
   "source": [
    "def returnSalesBeforeCompetition(df, storeId):\n",
    "\tstore = df[(df['Store'] == storeId) & (df['IsCompetition'] == 0)]\n",
    "\tcompetition = df[(df['Store'] == storeId) & (df['IsCompetition'] == 1)]\n",
    "\treturn store['Sales'].mean(), competition['Sales'].mean()\n",
    "\n",
    "arr_sales_before_competition = []\n",
    "arr_sales_after_competition = []\n",
    "\n",
    "for id in range(1, 1116):\n",
    "\tstore = weekly_sales_with_store_info[(weekly_sales_with_store_info['Store'] == id)]\n",
    "\t#print(f\"Store {id} has a mean sales of {store['IsCompetition'].mean()}\")\n",
    "\tif (store['IsCompetition'].mean() > 0) and (store['IsCompetition'].mean() < 1):\n",
    "\t\tstore_sales, competition_sales = returnSalesBeforeCompetition(weekly_sales_with_store_info, id)\n",
    "\t\tarr_sales_before_competition.append(store_sales)\n",
    "\t\tarr_sales_after_competition.append(competition_sales)\n",
    "\n",
    "print(f\"Mean sales before competition: {np.mean(arr_sales_before_competition)}\")\n",
    "print(f\"Mean sales after competition: {np.mean(arr_sales_after_competition)}\")\n",
    "\t"
   ]
  },
  {
   "cell_type": "markdown",
   "id": "4140b58b",
   "metadata": {},
   "source": [
    "**Result** Hypothesis is true.\n",
    "- The sales is in average 5,5% less after the competeter has opened."
   ]
  },
  {
   "cell_type": "markdown",
   "id": "fb30db1b",
   "metadata": {},
   "source": [
    "## Answers Further interesting questions"
   ]
  },
  {
   "cell_type": "markdown",
   "id": "608374e1",
   "metadata": {},
   "source": [
    "### 1. Promotions  \n",
    "#### 1.1 Lohnt sich eine Promotion in Wochen mit Feiertagen?"
   ]
  },
  {
   "cell_type": "code",
   "execution_count": null,
   "id": "e3851412",
   "metadata": {},
   "outputs": [],
   "source": [
    "# To be unbiased only weeks where is no StateHolidays.\n",
    "used_df = weekly_sales_with_store_info[(weekly_sales_with_store_info['IsStateHoliday'] == 1)]\n",
    "\n",
    "fig = px.box(used_df.sort_values('IsPromo'), x='IsPromo', y='SalesPerOpenDay')\n",
    "fig.show()\n",
    "# CustomersPerOpenDay\n",
    "fig = px.box(used_df.sort_values('IsPromo'), x='IsPromo', y='CustomersPerOpenDay')\n",
    "fig.show()\n",
    "# SalesPerCustomer\n",
    "fig = px.box(used_df.sort_values('IsPromo'), x='IsPromo', y='SalesPerCustomer')\n",
    "fig.show()"
   ]
  },
  {
   "cell_type": "code",
   "execution_count": null,
   "id": "37febf2d",
   "metadata": {},
   "outputs": [],
   "source": [
    "# Calculate difference between assortment a and b\n",
    "used_df = weekly_sales_with_store_info[(weekly_sales_with_store_info['IsStateHoliday'] == 1)]\n",
    "\n",
    "# Create a table to show the results of the plots using the mean values of the SalesPerOpenDay, CustomersPerOpenDay and SalesPerCustomer for each StoreType and Promo\n",
    "# Create a new DataFrame with the mean values of the SalesPerOpenDay, CustomersPerOpenDay and SalesPerCustomer\n",
    "median_values = used_df.groupby(['IsPromo']).agg({'SalesPerOpenDay': 'median', 'CustomersPerOpenDay': 'median', 'SalesPerCustomer': 'median'}).reset_index()\n",
    "# Add columns with the difference in percent between the mean values of the SalesPerOpenDay, CustomersPerOpenDay and SalesPerCustomer for each StoreType and the different assortments.\n",
    "#median_values['SalesPerOpenDayDiffAssortmentA-B%'] = median_values[(median_values['Assortment'] == 'a') & (median_values['StoreType'] == 'b')].groupby('StoreType')['SalesPerOpenDay'].pct_change() * 100\n",
    "\n",
    "median_values['SalesPerOpenDayDiff%'] = median_values['SalesPerOpenDay'].pct_change() * 100\n",
    "median_values['CustomersPerOpenDayDiff%'] = median_values['CustomersPerOpenDay'].pct_change() * 100\n",
    "median_values['SalesPerCustomerDiff%'] = median_values['SalesPerCustomer'].pct_change() * 100\n",
    "\n",
    "# Create a pivot table to show the mean values of the SalesPerOpenDay, CustomersPerOpenDay and SalesPerCustomer for each StoreType and Promo\n",
    "median_values_pivot = median_values.pivot_table(index='IsPromo', values=['SalesPerOpenDay', 'CustomersPerOpenDay', 'SalesPerCustomer', 'SalesPerOpenDayDiff%', 'CustomersPerOpenDayDiff%', 'SalesPerCustomerDiff%']).style.format(\"{:.2f}\")\n",
    "median_values_pivot"
   ]
  },
  {
   "cell_type": "markdown",
   "id": "f39a593c",
   "metadata": {},
   "source": [
    "**Result**\n",
    "- Also in a week with state holidays the promotions have a positive effect.\n",
    "- The sales per day is 38% higher\n",
    "- The customers per day is 20% higher\n",
    "- The sales per customer is 16% higher"
   ]
  },
  {
   "cell_type": "markdown",
   "id": "0272d253",
   "metadata": {},
   "source": [
    "### 5. Wochentag  \n",
    "#### 5.1 Lohnt sich eine Promotion am Wochenende?  "
   ]
  },
  {
   "cell_type": "code",
   "execution_count": null,
   "id": "88aaa6ce",
   "metadata": {},
   "outputs": [],
   "source": [
    "df_train_day = df_train.reset_index()\n",
    "df_train_day"
   ]
  },
  {
   "cell_type": "code",
   "execution_count": null,
   "id": "751bc6eb",
   "metadata": {},
   "outputs": [],
   "source": [
    "# Create Month and Year columns\n",
    "df_train_day.insert(df_train_day.columns.get_loc('Date') + 1, 'CW', df_train_day['Date'].dt.isocalendar().week)\n",
    "df_train_day.insert(df_train_day.columns.get_loc('Date') + 2, 'Month', df_train_day['Date'].dt.month)\n",
    "df_train_day.insert(df_train_day.columns.get_loc('Date') + 3, 'Year', df_train_day['Date'].dt.year)\n",
    "\n",
    "# Create SalesPerCustomer column\n",
    "df_train_day.insert(df_train_day.columns.get_loc('Sales') + 1, 'SalesPerCustomer', df_train_day['Sales'] / df_train_day['Customers'])\n",
    "# Create customers per open day\n",
    "df_train_day.insert(df_train_day.columns.get_loc('Customers') + 1, 'CustomersPerOpenDay', df_train_day['Customers'] / df_train_day['Open'])\n",
    "\n",
    "df_train_day.insert(df_train_day.columns.get_loc('Promo') + 1, 'IsPromo', np.where(df_train_day['Promo'] > 0, 1, 0))\n",
    "df_train_day.insert(df_train_day.columns.get_loc('StateHoliday') + 1, 'IsStateHoliday', np.where(df_train_day['StateHoliday'] != '0', 1, 0))\n",
    "df_train_day.insert(df_train_day.columns.get_loc('SchoolHoliday') + 1, 'IsSchoolHoliday', np.where(df_train_day['SchoolHoliday'] > 0, 1, 0))\n"
   ]
  },
  {
   "cell_type": "code",
   "execution_count": null,
   "id": "f5b60b54",
   "metadata": {},
   "outputs": [],
   "source": [
    "# To be unbiased only weeks where is no StateHolidays.\n",
    "used_df = df_train_day\n",
    "\n",
    "fig = px.box(used_df.sort_values('DayOfWeek'), x='DayOfWeek', y='Sales')\n",
    "fig.show()\n",
    "# CustomersPerOpenDay\n",
    "fig = px.box(used_df.sort_values('DayOfWeek'), x='DayOfWeek', y='CustomersPerOpenDay')\n",
    "fig.show()\n",
    "# SalesPerCustomer\n",
    "fig = px.box(used_df.sort_values('DayOfWeek'), x='DayOfWeek', y='SalesPerCustomer')\n",
    "fig.show()\n",
    "\n",
    "# Create a table to show the results of the plots using the mean values of the SalesPerOpenDay, CustomersPerOpenDay and SalesPerCustomer for each StoreType and Promo\n",
    "# Create a new DataFrame with the mean values of the SalesPerOpenDay, CustomersPerOpenDay and SalesPerCustomer\n",
    "median_values = used_df.groupby('DayOfWeek').agg({'Sales': 'median', 'Customers': 'median', 'SalesPerCustomer': 'median'}).reset_index()\n",
    "\n",
    "# Create a pivot table to show the mean values of the SalesPerOpenDay, CustomersPerOpenDay and SalesPerCustomer for each StoreType and Promo\n",
    "median_values_pivot = median_values.pivot_table(index='DayOfWeek', values=['Sales', 'Customers', 'SalesPerCustomer']).style.format(\"{:.2f}\")\n",
    "median_values_pivot"
   ]
  },
  {
   "cell_type": "markdown",
   "id": "532f07ce",
   "metadata": {},
   "source": [
    "**Result**\n",
    "- The amount of customers on a Saturday is -22% lower then within the week.\n",
    "- The sales on a Saturday is ~ -20% lower then within the week.\n",
    "- The sales per customer on a Saturday is ~ 2% lower then within the week."
   ]
  },
  {
   "cell_type": "markdown",
   "id": "acd97bfb",
   "metadata": {},
   "source": [
    "### 6. Assortment  \n",
    "#### 6.1 Wie ist das Verhältnis von Basis, Extra und erweitertem Sortiment?  \n"
   ]
  },
  {
   "cell_type": "code",
   "execution_count": null,
   "id": "1a37436b",
   "metadata": {},
   "outputs": [],
   "source": [
    "# counts of assortment a, b and c and there percentage\n",
    "fig = px.histogram(weekly_sales_with_store_info.sort_values('Assortment'), x='Assortment', title='Assortment counts')\n",
    "fig.show()\n",
    "\n",
    "fig = px.histogram(weekly_sales_with_store_info.sort_values('Assortment'), x='Assortment', title='Assortment percentage', histnorm='percent')\n",
    "fig.show()"
   ]
  },
  {
   "cell_type": "markdown",
   "id": "a936744e",
   "metadata": {},
   "source": [
    "#### 6.2 Wie ist das Verhältnis von Basis, Extra und erweitertem Sortiment in den einzelnen Storetypen?  "
   ]
  },
  {
   "cell_type": "code",
   "execution_count": null,
   "id": "ef187890",
   "metadata": {},
   "outputs": [],
   "source": [
    "fig = px.histogram(weekly_sales_with_store_info.sort_values(by=['Assortment', 'StoreType']), x='Assortment', title='Assortment counts by StoreType', color='StoreType', barmode='group')\n",
    "fig.show()\n",
    "\n",
    "fig = px.histogram(weekly_sales_with_store_info.sort_values(by=['Assortment', 'StoreType']), x='Assortment', title='Assortment percentage by StoreType', histnorm='percent', color='StoreType', barmode='group')\n",
    "fig.show()"
   ]
  },
  {
   "cell_type": "markdown",
   "id": "85c0f328",
   "metadata": {},
   "source": [
    "#### 6.3 Wie ist der durchschnittliche Umsatz der einzelnen Assortments?  \n"
   ]
  },
  {
   "cell_type": "code",
   "execution_count": null,
   "id": "26d236f9",
   "metadata": {},
   "outputs": [],
   "source": [
    "used_df = weekly_sales_with_store_info\n",
    "\n",
    "fig = px.box(used_df.sort_values('Assortment'), x='Assortment', y='Sales')\n",
    "fig.show()"
   ]
  },
  {
   "cell_type": "code",
   "execution_count": null,
   "id": "5a957ea8",
   "metadata": {},
   "outputs": [],
   "source": [
    "used_df = weekly_sales_with_store_info\n",
    "\n",
    "fig = px.box(used_df.sort_values('Assortment'), x='Assortment', y='Sales', color='StoreType')\n",
    "fig.show()"
   ]
  },
  {
   "cell_type": "markdown",
   "id": "6f6aa592",
   "metadata": {},
   "source": [
    "#### 6.4 Wie viel promotion weeks gibt es in den einzelnen Assortments?  \n"
   ]
  },
  {
   "cell_type": "code",
   "execution_count": null,
   "id": "33aa4142",
   "metadata": {},
   "outputs": [],
   "source": [
    "# How many promo weeks are there in each year for each assortment\n",
    "promo_data = weekly_sales_with_store_info[weekly_sales_with_store_info['IsPromo'] == 1]\n",
    "\n",
    "# Group by Year, Assortment, and Calendar Week, then count the number of weeks\n",
    "promo_weeks = promo_data.groupby(['Year', 'Assortment'])['CW'].nunique().reset_index(name='PromoWeeksCount')\n",
    "promo_weeks"
   ]
  },
  {
   "cell_type": "code",
   "execution_count": null,
   "id": "9bc934bd",
   "metadata": {},
   "outputs": [],
   "source": [
    "# How many promo weeks are there in each year for each StoreType\n",
    "promo_data = weekly_sales_with_store_info[weekly_sales_with_store_info['IsPromo'] == 1]\n",
    "\n",
    "# Group by Year, Assortment, and Calendar Week, then count the number of weeks\n",
    "promo_weeks = promo_data.groupby(['Year', 'StoreType'])['CW'].nunique().reset_index(name='PromoWeeksCount')\n",
    "promo_weeks"
   ]
  },
  {
   "cell_type": "code",
   "execution_count": null,
   "id": "1b9e407a",
   "metadata": {},
   "outputs": [],
   "source": [
    "# How many promo weeks are there in each month\n",
    "promo_data = weekly_sales_with_store_info[weekly_sales_with_store_info['IsPromo'] == 1]\n",
    "\n",
    "promo_weeks = promo_data.groupby(['Year', 'Month'])['CW'].nunique().reset_index(name='PromoWeeksCount')\n",
    "promo_weeks"
   ]
  },
  {
   "cell_type": "markdown",
   "id": "a2a71202",
   "metadata": {},
   "source": [
    "**Result**\n",
    "- Every second week for all assortment types."
   ]
  },
  {
   "cell_type": "markdown",
   "id": "3664d311",
   "metadata": {},
   "source": [
    "#### 6.5 Schneiden Werbewochen in einzelnen Assortments besser ab als in anderen?"
   ]
  },
  {
   "cell_type": "code",
   "execution_count": null,
   "id": "832e16c5",
   "metadata": {},
   "outputs": [],
   "source": [
    "# To be compareble only weeks with >5 open days are used\n",
    "used_df = weekly_sales_with_store_info[(weekly_sales_with_store_info['Open'] >= 5)]\n",
    "fig = px.box(used_df.sort_values('Assortment'), x='Assortment', y='SalesPerOpenDay', color='Promo')\n",
    "fig.show()\n",
    "# CustomersPerOpenDay\n",
    "fig = px.box(used_df.sort_values('Assortment'), x='Assortment', y='CustomersPerOpenDay', color='Promo')\n",
    "fig.show()\n",
    "# SalesPerCustomer\n",
    "fig = px.box(used_df.sort_values('Assortment'), x='Assortment', y='SalesPerCustomer', color='Promo')\n",
    "fig.show()\n",
    "\n",
    "# Create a table to show the results of the plots using the mean values of the SalesPerOpenDay, CustomersPerOpenDay and SalesPerCustomer for each StoreType and Promo\n",
    "# Create a new DataFrame with the mean values of the SalesPerOpenDay, CustomersPerOpenDay and SalesPerCustomer\n",
    "median_values = used_df.groupby(['Assortment', 'Promo']).agg({'SalesPerOpenDay': 'median', 'CustomersPerOpenDay': 'median', 'SalesPerCustomer': 'median'}).reset_index()\n",
    "# Add columns with the difference in percent between the mean values of the SalesPerOpenDay, CustomersPerOpenDay and SalesPerCustomer for each StoreType when having a Promo and when not having a Promo. Calculation has to be done only for each secon column to dont mix store types.\n",
    "median_values['SalesPerOpenDayDiff%'] = median_values.groupby('Assortment')['SalesPerOpenDay'].pct_change() * 100\n",
    "median_values['CustomersPerOpenDayDiff%'] = median_values.groupby('Assortment')['CustomersPerOpenDay'].pct_change() * 100\n",
    "median_values['SalesPerCustomerDiff%'] = median_values.groupby('Assortment')['SalesPerCustomer'].pct_change() * 100\n",
    "\n",
    "\n",
    "# Create a pivot table to show the mean values of the SalesPerOpenDay, CustomersPerOpenDay and SalesPerCustomer for each StoreType and Promo\n",
    "median_values_pivot = median_values.pivot_table(index='Assortment', columns='Promo', values=['SalesPerOpenDay', 'CustomersPerOpenDay', 'SalesPerCustomer', 'SalesPerOpenDayDiff%', 'CustomersPerOpenDayDiff%', 'SalesPerCustomerDiff%']).style.format(\"{:.2f}\")\n",
    "median_values_pivot"
   ]
  },
  {
   "cell_type": "markdown",
   "id": "086a1f3e",
   "metadata": {},
   "source": [
    "**Result**\n",
    "- The promotion weeks are in Assortment a and c three times more effective then in assortment b."
   ]
  },
  {
   "cell_type": "markdown",
   "id": "98b83c20",
   "metadata": {},
   "source": [
    "### 8. Storetype  \n",
    "#### 8.1 Wie viele Stores gibt es von welchem Typ?  "
   ]
  },
  {
   "cell_type": "code",
   "execution_count": null,
   "id": "b5116417",
   "metadata": {},
   "outputs": [],
   "source": [
    "fig = px.histogram(weekly_sales_with_store_info.sort_values(by=['StoreType']), x='StoreType', title='StoreType counts')\n",
    "fig.show()\n",
    "\n",
    "fig = px.histogram(weekly_sales_with_store_info.sort_values(by=['StoreType']), x='StoreType', title='StoreType percentage', histnorm='percent')\n",
    "fig.show()\n",
    "\n",
    "fig = px.histogram(weekly_sales_with_store_info.sort_values(by=['Assortment', 'StoreType']), x='StoreType', title='StoreType counts by Assortment', color='Assortment', barmode='group')\n",
    "fig.show()\n",
    "\n",
    "fig = px.histogram(weekly_sales_with_store_info.sort_values(by=['Assortment', 'StoreType']), x='StoreType', title='StoreType percentage by Assortment', histnorm='percent', color='Assortment', barmode='group')\n",
    "fig.show()"
   ]
  },
  {
   "cell_type": "markdown",
   "id": "96401030",
   "metadata": {},
   "source": [
    "#### 8.2 Wie viel promotion weeks gibt es in den einzelnen Storetypen?  "
   ]
  },
  {
   "cell_type": "code",
   "execution_count": null,
   "id": "c854d593",
   "metadata": {},
   "outputs": [],
   "source": [
    "# How many promo weeks are there in each year for each StoreType\n",
    "promo_data = weekly_sales_with_store_info[weekly_sales_with_store_info['IsPromo'] == 1]\n",
    "\n",
    "# Group by Year, Assortment, and Calendar Week, then count the number of weeks\n",
    "promo_weeks = promo_data.groupby(['Year', 'StoreType'])['CW'].nunique().reset_index(name='PromoWeeksCount')\n",
    "promo_weeks"
   ]
  },
  {
   "cell_type": "markdown",
   "id": "3d147f73",
   "metadata": {},
   "source": [
    "#### 8.3 Schneiden Werbewochen in einzelnen Storetypen besser ab als in anderen?"
   ]
  },
  {
   "cell_type": "code",
   "execution_count": null,
   "id": "f39fecf8",
   "metadata": {},
   "outputs": [],
   "source": [
    "# To be compareble only weeks with >5 open days are used\n",
    "used_df = weekly_sales_with_store_info[(weekly_sales_with_store_info['Open'] >= 5)]\n",
    "fig = px.box(used_df.sort_values('StoreType'), x='StoreType', y='SalesPerOpenDay', color='Promo')\n",
    "fig.show()\n",
    "# CustomersPerOpenDay\n",
    "fig = px.box(used_df.sort_values('StoreType'), x='StoreType', y='CustomersPerOpenDay', color='Promo')\n",
    "fig.show()\n",
    "# SalesPerCustomer\n",
    "fig = px.box(used_df.sort_values('StoreType'), x='StoreType', y='SalesPerCustomer', color='Promo')\n",
    "fig.show()\n",
    "\n",
    "# Create a table to show the results of the plots using the mean values of the SalesPerOpenDay, CustomersPerOpenDay and SalesPerCustomer for each StoreType and Promo\n",
    "# Create a new DataFrame with the mean values of the SalesPerOpenDay, CustomersPerOpenDay and SalesPerCustomer\n",
    "median_values = used_df.groupby(['StoreType', 'Promo']).agg({'SalesPerOpenDay': 'median', 'CustomersPerOpenDay': 'median', 'SalesPerCustomer': 'median'}).reset_index()\n",
    "# Add columns with the difference in percent between the mean values of the SalesPerOpenDay, CustomersPerOpenDay and SalesPerCustomer for each StoreType when having a Promo and when not having a Promo. Calculation has to be done only for each secon column to dont mix store types.\n",
    "median_values['SalesPerOpenDayDiff%'] = median_values.groupby('StoreType')['SalesPerOpenDay'].pct_change() * 100\n",
    "median_values['CustomersPerOpenDayDiff%'] = median_values.groupby('StoreType')['CustomersPerOpenDay'].pct_change() * 100\n",
    "median_values['SalesPerCustomerDiff%'] = median_values.groupby('StoreType')['SalesPerCustomer'].pct_change() * 100\n",
    "\n",
    "\n",
    "# Create a pivot table to show the mean values of the SalesPerOpenDay, CustomersPerOpenDay and SalesPerCustomer for each StoreType and Promo\n",
    "median_values_pivot = median_values.pivot_table(index='StoreType', columns='Promo', values=['SalesPerOpenDay', 'CustomersPerOpenDay', 'SalesPerCustomer', 'SalesPerOpenDayDiff%', 'CustomersPerOpenDayDiff%', 'SalesPerCustomerDiff%']).style.format(\"{:.2f}\")\n",
    "median_values_pivot"
   ]
  },
  {
   "cell_type": "markdown",
   "id": "8a788782",
   "metadata": {},
   "source": [
    "**Result**\n",
    "- The promotion weeks are in StoreType a, c and d three times more effective then in assortment b."
   ]
  },
  {
   "cell_type": "markdown",
   "id": "2e6a4179",
   "metadata": {},
   "source": []
  }
 ],
 "metadata": {
  "kernelspec": {
   "display_name": "Python 3 (ipykernel)",
   "language": "python",
   "name": "python3"
  },
  "language_info": {
   "codemirror_mode": {
    "name": "ipython",
    "version": 3
   },
   "file_extension": ".py",
   "mimetype": "text/x-python",
   "name": "python",
   "nbconvert_exporter": "python",
   "pygments_lexer": "ipython3",
   "version": "3.8.18"
  }
 },
 "nbformat": 4,
 "nbformat_minor": 5
}
